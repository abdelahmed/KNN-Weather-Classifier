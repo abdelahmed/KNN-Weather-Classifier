{
 "cells": [
  {
   "cell_type": "markdown",
   "id": "85a50c5e-1e9a-4c3d-8ca8-2ed602262036",
   "metadata": {
    "tags": []
   },
   "source": [
    "# KNN Weather Classification"
   ]
  },
  {
   "cell_type": "markdown",
   "id": "b3609c04-bdeb-4dbb-9b77-1164b156e7b0",
   "metadata": {},
   "source": [
    "### Importing Libraries:"
   ]
  },
  {
   "cell_type": "code",
   "execution_count": 662,
   "id": "cd7ee9e1-7885-42ce-9362-1ddc7cb05d4f",
   "metadata": {},
   "outputs": [],
   "source": [
    "import pandas as pd\n",
    "import numpy as np\n",
    "import matplotlib.pyplot as plt\n",
    "from sklearn.model_selection import train_test_split, GridSearchCV, StratifiedKFold\n",
    "from sklearn.neighbors import KNeighborsClassifier\n",
    "from sklearn.pipeline import Pipeline\n",
    "from sklearn.metrics import accuracy_score, confusion_matrix\n",
    "from sklearn.compose import ColumnTransformer\n",
    "from sklearn.preprocessing import StandardScaler\n",
    "from sklearn.utils import resample\n",
    "from sklearn.metrics import confusion_matrix, plot_confusion_matrix\n",
    "from plotnine import *\n",
    "from sklearn.feature_selection import SelectKBest, f_classif\n",
    "\n",
    "import pandas as pd\n",
    "import numpy as np\n",
    "from sklearn.neighbors import KNeighborsClassifier\n",
    "from sklearn.pipeline import Pipeline\n",
    "from sklearn.compose import ColumnTransformer\n",
    "from sklearn.preprocessing import StandardScaler\n",
    "from sklearn.model_selection import GridSearchCV\n",
    "from sklearn.metrics import accuracy_score\n",
    "from sklearn.utils import resample\n",
    "\n",
    "\n",
    "\n",
    "%matplotlib inline\n",
    "\n"
   ]
  },
  {
   "cell_type": "markdown",
   "id": "7708d667-55bc-4508-9599-3e7bf4d8af07",
   "metadata": {},
   "source": [
    "### Reading the Dataset:"
   ]
  },
  {
   "cell_type": "code",
   "execution_count": 663,
   "id": "fbfb98c7-e93a-4419-8a69-092b131badcc",
   "metadata": {
    "tags": []
   },
   "outputs": [],
   "source": [
    "weather = pd.read_csv(\"seattle-weather.csv\")"
   ]
  },
  {
   "cell_type": "markdown",
   "id": "7b2e7a16-a28c-481d-b07d-2cb7106e46e9",
   "metadata": {},
   "source": [
    "The \"date\" variable is dropped to avoid further complications when making predictions, since it is a string and not a quantitative variable."
   ]
  },
  {
   "cell_type": "code",
   "execution_count": 664,
   "id": "4e22b0ef-3816-488f-ae14-4ebf2d9e7724",
   "metadata": {
    "tags": []
   },
   "outputs": [
    {
     "name": "stdout",
     "output_type": "stream",
     "text": [
      "<class 'pandas.core.frame.DataFrame'>\n",
      "RangeIndex: 1461 entries, 0 to 1460\n",
      "Data columns (total 5 columns):\n",
      " #   Column         Non-Null Count  Dtype  \n",
      "---  ------         --------------  -----  \n",
      " 0   precipitation  1461 non-null   float64\n",
      " 1   temp_max       1461 non-null   float64\n",
      " 2   temp_min       1461 non-null   float64\n",
      " 3   wind           1461 non-null   float64\n",
      " 4   weather        1461 non-null   object \n",
      "dtypes: float64(4), object(1)\n",
      "memory usage: 57.2+ KB\n"
     ]
    }
   ],
   "source": [
    "weather = weather.drop(['date'], axis=1)\n",
    "weather.info() "
   ]
  },
  {
   "cell_type": "markdown",
   "id": "6364b376-7794-48ee-89a2-d6831a30dda3",
   "metadata": {},
   "source": [
    "## Removing null data"
   ]
  },
  {
   "cell_type": "markdown",
   "id": "d6dd0b65-5fc2-4e9d-a273-2c3bab2d6cab",
   "metadata": {},
   "source": [
    "We now remove all data with missing/null results, using the dropna function. This is done to ensure that all parameters have the same amount of data to be used when training. This helps avoid errors with certain machine learning models.\n",
    "\n",
    "\n",
    "\n",
    "\n",
    "\n",
    "\n"
   ]
  },
  {
   "cell_type": "code",
   "execution_count": 687,
   "id": "5789bf86-99a5-431e-bdc8-cdc76285bdb2",
   "metadata": {
    "tags": []
   },
   "outputs": [],
   "source": [
    "weather.dropna(inplace=True)\n"
   ]
  },
  {
   "cell_type": "code",
   "execution_count": 688,
   "id": "c88814c5-e477-4124-842e-8936414ded42",
   "metadata": {
    "tags": []
   },
   "outputs": [
    {
     "name": "stdout",
     "output_type": "stream",
     "text": [
      "<class 'pandas.core.frame.DataFrame'>\n",
      "RangeIndex: 1461 entries, 0 to 1460\n",
      "Data columns (total 5 columns):\n",
      " #   Column         Non-Null Count  Dtype  \n",
      "---  ------         --------------  -----  \n",
      " 0   precipitation  1461 non-null   float64\n",
      " 1   temp_max       1461 non-null   float64\n",
      " 2   temp_min       1461 non-null   float64\n",
      " 3   wind           1461 non-null   float64\n",
      " 4   weather        1461 non-null   object \n",
      "dtypes: float64(4), object(1)\n",
      "memory usage: 57.2+ KB\n"
     ]
    }
   ],
   "source": [
    "weather.info()"
   ]
  },
  {
   "cell_type": "markdown",
   "id": "96c164be-577b-4923-b8e9-06cd52734c90",
   "metadata": {},
   "source": [
    "## Tidying Data"
   ]
  },
  {
   "cell_type": "markdown",
   "id": "c0961a16-c0c7-4ccb-a88f-beaa3c2474ed",
   "metadata": {},
   "source": [
    "The data is tidied to make it easier to extract and analyze when training and testing the predictor.\n",
    "\n",
    "The weather variable is set to be categorical. This is done to prepare the dataset for classification, since weather is the target variable.\n",
    "\n",
    "A new column is added called \"temp_avg\" which is the average temperature of the given day. This gives a new variable to look at potentially using as a potential piece of prediction."
   ]
  },
  {
   "cell_type": "code",
   "execution_count": 689,
   "id": "1d7c491b-9240-4bbe-9f8c-0f0e82427904",
   "metadata": {},
   "outputs": [
    {
     "data": {
      "text/html": [
       "<div>\n",
       "<style scoped>\n",
       "    .dataframe tbody tr th:only-of-type {\n",
       "        vertical-align: middle;\n",
       "    }\n",
       "\n",
       "    .dataframe tbody tr th {\n",
       "        vertical-align: top;\n",
       "    }\n",
       "\n",
       "    .dataframe thead th {\n",
       "        text-align: right;\n",
       "    }\n",
       "</style>\n",
       "<table border=\"1\" class=\"dataframe\">\n",
       "  <thead>\n",
       "    <tr style=\"text-align: right;\">\n",
       "      <th></th>\n",
       "      <th>precipitation</th>\n",
       "      <th>temp_max</th>\n",
       "      <th>temp_min</th>\n",
       "      <th>wind</th>\n",
       "      <th>weather</th>\n",
       "      <th>temp_avg</th>\n",
       "    </tr>\n",
       "  </thead>\n",
       "  <tbody>\n",
       "    <tr>\n",
       "      <th>0</th>\n",
       "      <td>0.0</td>\n",
       "      <td>12.8</td>\n",
       "      <td>5.0</td>\n",
       "      <td>4.7</td>\n",
       "      <td>drizzle</td>\n",
       "      <td>8.90</td>\n",
       "    </tr>\n",
       "    <tr>\n",
       "      <th>1</th>\n",
       "      <td>10.9</td>\n",
       "      <td>10.6</td>\n",
       "      <td>2.8</td>\n",
       "      <td>4.5</td>\n",
       "      <td>rain</td>\n",
       "      <td>6.70</td>\n",
       "    </tr>\n",
       "    <tr>\n",
       "      <th>2</th>\n",
       "      <td>0.8</td>\n",
       "      <td>11.7</td>\n",
       "      <td>7.2</td>\n",
       "      <td>2.3</td>\n",
       "      <td>rain</td>\n",
       "      <td>9.45</td>\n",
       "    </tr>\n",
       "    <tr>\n",
       "      <th>3</th>\n",
       "      <td>20.3</td>\n",
       "      <td>12.2</td>\n",
       "      <td>5.6</td>\n",
       "      <td>4.7</td>\n",
       "      <td>rain</td>\n",
       "      <td>8.90</td>\n",
       "    </tr>\n",
       "    <tr>\n",
       "      <th>4</th>\n",
       "      <td>1.3</td>\n",
       "      <td>8.9</td>\n",
       "      <td>2.8</td>\n",
       "      <td>6.1</td>\n",
       "      <td>rain</td>\n",
       "      <td>5.85</td>\n",
       "    </tr>\n",
       "    <tr>\n",
       "      <th>...</th>\n",
       "      <td>...</td>\n",
       "      <td>...</td>\n",
       "      <td>...</td>\n",
       "      <td>...</td>\n",
       "      <td>...</td>\n",
       "      <td>...</td>\n",
       "    </tr>\n",
       "    <tr>\n",
       "      <th>1456</th>\n",
       "      <td>8.6</td>\n",
       "      <td>4.4</td>\n",
       "      <td>1.7</td>\n",
       "      <td>2.9</td>\n",
       "      <td>rain</td>\n",
       "      <td>3.05</td>\n",
       "    </tr>\n",
       "    <tr>\n",
       "      <th>1457</th>\n",
       "      <td>1.5</td>\n",
       "      <td>5.0</td>\n",
       "      <td>1.7</td>\n",
       "      <td>1.3</td>\n",
       "      <td>rain</td>\n",
       "      <td>3.35</td>\n",
       "    </tr>\n",
       "    <tr>\n",
       "      <th>1458</th>\n",
       "      <td>0.0</td>\n",
       "      <td>7.2</td>\n",
       "      <td>0.6</td>\n",
       "      <td>2.6</td>\n",
       "      <td>fog</td>\n",
       "      <td>3.90</td>\n",
       "    </tr>\n",
       "    <tr>\n",
       "      <th>1459</th>\n",
       "      <td>0.0</td>\n",
       "      <td>5.6</td>\n",
       "      <td>-1.0</td>\n",
       "      <td>3.4</td>\n",
       "      <td>sun</td>\n",
       "      <td>2.30</td>\n",
       "    </tr>\n",
       "    <tr>\n",
       "      <th>1460</th>\n",
       "      <td>0.0</td>\n",
       "      <td>5.6</td>\n",
       "      <td>-2.1</td>\n",
       "      <td>3.5</td>\n",
       "      <td>sun</td>\n",
       "      <td>1.75</td>\n",
       "    </tr>\n",
       "  </tbody>\n",
       "</table>\n",
       "<p>1461 rows × 6 columns</p>\n",
       "</div>"
      ],
      "text/plain": [
       "      precipitation  temp_max  temp_min  wind  weather  temp_avg\n",
       "0               0.0      12.8       5.0   4.7  drizzle      8.90\n",
       "1              10.9      10.6       2.8   4.5     rain      6.70\n",
       "2               0.8      11.7       7.2   2.3     rain      9.45\n",
       "3              20.3      12.2       5.6   4.7     rain      8.90\n",
       "4               1.3       8.9       2.8   6.1     rain      5.85\n",
       "...             ...       ...       ...   ...      ...       ...\n",
       "1456            8.6       4.4       1.7   2.9     rain      3.05\n",
       "1457            1.5       5.0       1.7   1.3     rain      3.35\n",
       "1458            0.0       7.2       0.6   2.6      fog      3.90\n",
       "1459            0.0       5.6      -1.0   3.4      sun      2.30\n",
       "1460            0.0       5.6      -2.1   3.5      sun      1.75\n",
       "\n",
       "[1461 rows x 6 columns]"
      ]
     },
     "execution_count": 689,
     "metadata": {},
     "output_type": "execute_result"
    }
   ],
   "source": [
    "# create new Dataframe \"weather_data\"\n",
    "# convert weather column to a categorical variable\n",
    "\n",
    "\n",
    "weather_data = weather.assign(\n",
    "    weather=pd.Categorical(weather['weather']),\n",
    "    temp_avg=(weather['temp_max'] + weather['temp_min']) / 2\n",
    ")\n",
    "\n",
    "weather_data\n",
    "\n",
    "\n",
    "#created new \"temp_avg\" column"
   ]
  },
  {
   "cell_type": "markdown",
   "id": "a2fa405b-3339-4c11-a266-15997a3eee06",
   "metadata": {},
   "source": [
    "To get an idea of the distribution of weather types throughout the days, comparing their frequency, An HTML table is built, with a column \"weather\" and a column \"n\", which shows how many observations of each weather type there is.\n"
   ]
  },
  {
   "cell_type": "markdown",
   "id": "dd14ba76-c904-4e7b-9bb8-813bf514647a",
   "metadata": {},
   "source": [
    "The groupby function gives the count of the number of observations for each weather type:"
   ]
  },
  {
   "cell_type": "code",
   "execution_count": 693,
   "id": "36282b68-f76f-4847-96c4-22ee80edd260",
   "metadata": {},
   "outputs": [],
   "source": [
    "weather_data_count = weather_data.groupby('weather').agg(n=('weather', 'count')).reset_index()"
   ]
  },
  {
   "cell_type": "markdown",
   "id": "7790a019-4d05-48f6-b2f2-9194b97f3a60",
   "metadata": {},
   "source": [
    "An HTML table is made:"
   ]
  },
  {
   "cell_type": "code",
   "execution_count": 695,
   "id": "0783741c-5a08-4f59-8987-a4486fd1ffa6",
   "metadata": {},
   "outputs": [
    {
     "data": {
      "text/html": [
       "<table><caption> Number of observations recorded for each type of weather</caption><table border=\"1\" class=\"dataframe\">\n",
       "  <thead>\n",
       "    <tr style=\"text-align: right;\">\n",
       "      <th>weather</th>\n",
       "      <th>n</th>\n",
       "    </tr>\n",
       "  </thead>\n",
       "  <tbody>\n",
       "    <tr>\n",
       "      <td>drizzle</td>\n",
       "      <td>53</td>\n",
       "    </tr>\n",
       "    <tr>\n",
       "      <td>fog</td>\n",
       "      <td>101</td>\n",
       "    </tr>\n",
       "    <tr>\n",
       "      <td>rain</td>\n",
       "      <td>641</td>\n",
       "    </tr>\n",
       "    <tr>\n",
       "      <td>snow</td>\n",
       "      <td>26</td>\n",
       "    </tr>\n",
       "    <tr>\n",
       "      <td>sun</td>\n",
       "      <td>640</td>\n",
       "    </tr>\n",
       "  </tbody>\n",
       "</table></table>"
      ],
      "text/plain": [
       "<IPython.core.display.HTML object>"
      ]
     },
     "metadata": {},
     "output_type": "display_data"
    }
   ],
   "source": [
    "from IPython.display import display, HTML\n",
    "\n",
    "# Group the data and count the number of observations for each weather type\n",
    "weather_data_count = weather_data.groupby('weather').agg(n=('weather', 'count')).reset_index()\n",
    "\n",
    "# Convert the DataFrame to an HTML table and concatenate a caption\n",
    "table_html = weather_data_count.to_html(index=False)\n",
    "caption_html = '<caption> Number of observations recorded for each type of weather</caption>'\n",
    "table_with_caption_html = f'<table>{caption_html}{table_html}</table>'\n",
    "\n",
    "# Display the table with the caption\n",
    "display(HTML(table_with_caption_html))\n"
   ]
  },
  {
   "cell_type": "markdown",
   "id": "18d8e539-041e-4dfa-99ef-e0b59a947c4d",
   "metadata": {},
   "source": [
    "As shown in this table, there are much less observations of snow, fog, and drizzle proportional to sun and rain. This means that it could be harder for the predictor to correctly predict these weather types. An observation which can be used for further procedures, such as visualizing which predictions are more frequently wrong."
   ]
  },
  {
   "cell_type": "markdown",
   "id": "696e674c-9011-4b77-85d3-be3ecdc2a0c2",
   "metadata": {},
   "source": [
    "## Forward Selection:"
   ]
  },
  {
   "cell_type": "markdown",
   "id": "b724070f-8a38-4a8f-9a3a-01eed0378577",
   "metadata": {},
   "source": [
    "Forward selection is utilized to determine the most relevant predictors for data analysis, with the exclusion of date due to its lack of direct relation to weather and inability to influence observed weather patterns. The objective is to construct a generalizable model applicable to other locations, as seasonal trends can vary greatly by location. In the subsequent step, precipitation, temperature, and wind variables are tested to determine the combination that yields the greatest predictive accuracy."
   ]
  },
  {
   "cell_type": "code",
   "execution_count": 698,
   "id": "f6566419-d767-49ad-b294-8354ede56258",
   "metadata": {},
   "outputs": [
    {
     "name": "stdout",
     "output_type": "stream",
     "text": [
      "Selected Features: Index(['precipitation', 'temp_max', 'temp_min', 'wind', 'temp_avg'], dtype='object')\n"
     ]
    }
   ],
   "source": [
    "import pandas as pd\n",
    "from sklearn.feature_selection import SelectKBest, f_classif\n",
    "\n",
    "# Separate the feature matrix and target variable\n",
    "X = weather_data.drop(\"weather\", axis=1)\n",
    "y = weather_data[\"weather\"]\n",
    "\n",
    "# Perform feature selection using SelectKBest\n",
    "selector = SelectKBest(score_func=f_classif, k=5)\n",
    "\n",
    "X_new = selector.fit_transform(X, y)\n",
    "\n",
    "# Get the selected feature names\n",
    "selected_features = X.columns[selector.get_support(indices=True)]\n",
    "\n",
    "# Print the selected feature names\n",
    "print(\"Selected Features:\", selected_features)"
   ]
  },
  {
   "cell_type": "markdown",
   "id": "253ed246-0c75-4b88-9b0f-ad01a91d7975",
   "metadata": {},
   "source": [
    "# Training and Testing "
   ]
  },
  {
   "cell_type": "markdown",
   "id": "15b88077-ef68-481b-a22d-62b3a40c42d5",
   "metadata": {},
   "source": [
    "During the training phase, the model is presented with a set of labeled data to learn patterns and relationships between the input variables (predictors) and the output variable (target). The goal is for the model to generalize this knowledge and accurately predict the target variable for new, unseen data.\n",
    "\n",
    "To assess how well the model has learned these patterns, we test it on a separate set of data that was not used in the training process. This is known as the testing phase. The testing data allows us to evaluate the model's performance on new, unseen data and to determine how well it can generalize beyond the training data."
   ]
  },
  {
   "cell_type": "code",
   "execution_count": 671,
   "id": "e7527bf7-5844-4508-af67-74d742dedfa0",
   "metadata": {},
   "outputs": [],
   "source": [
    "import pandas as pd\n",
    "from sklearn.model_selection import train_test_split, GridSearchCV, KFold\n",
    "from sklearn.neighbors import KNeighborsClassifier\n",
    "from sklearn.preprocessing import StandardScaler, OneHotEncoder\n",
    "\n",
    "# Split the data into training and testing sets\n",
    "\n",
    "X = weather_data[selected_features]\n",
    "y = weather_data[\"weather\"]\n",
    "\n",
    "\n",
    "# Split the data into training and testing sets\n",
    "X_train, X_test, y_train, y_test = train_test_split(X, y, test_size=0.25, random_state=100)\n",
    "\n",
    "\n",
    "\n",
    "\n"
   ]
  },
  {
   "cell_type": "markdown",
   "id": "08e0e732-18d5-4a28-ab16-a8bbe65c74c7",
   "metadata": {},
   "source": [
    "# Scaling"
   ]
  },
  {
   "cell_type": "markdown",
   "id": "e77b0a6a-cfa4-4664-8e6f-1dc37ee9eaea",
   "metadata": {},
   "source": [
    "##### After creating training and testing sets, they must now be scaled:"
   ]
  },
  {
   "cell_type": "markdown",
   "id": "03d44168-2fb9-4068-a183-f4479a74f219",
   "metadata": {},
   "source": [
    "Scaling is a common data preprocessing step in machine learning that involves transforming the data so that the features have the same scale. This is important because many machine learning algorithms assume that all features are on the same scale and have equal importance. If the features are not on the same scale, the algorithm may give more weight to features with larger values, even if those features are not actually more important.\n",
    "\n",
    "The StandardScaler is a commonly used scaling technique that standardizes the features by subtracting the mean and dividing by the standard deviation. This transformation results in a distribution with a mean of zero and a standard deviation of one."
   ]
  },
  {
   "cell_type": "code",
   "execution_count": 700,
   "id": "dbb2e7a1-9159-46ac-9764-e545f0aaf567",
   "metadata": {},
   "outputs": [],
   "source": [
    "# Scale the data using StandardScaler\n",
    "scaler = StandardScaler()\n",
    "X_train = scaler.fit_transform(X_train)\n",
    "X_test = scaler.transform(X_test)\n"
   ]
  },
  {
   "cell_type": "markdown",
   "id": "74095ae5-5728-41c6-a92a-18c51191a08d",
   "metadata": {},
   "source": [
    "# Random Forest"
   ]
  },
  {
   "cell_type": "markdown",
   "id": "f9781a87-13d6-48df-bae7-63a6c5c85a96",
   "metadata": {},
   "source": [
    "Now that the data is scaled, it is time to train."
   ]
  },
  {
   "cell_type": "markdown",
   "id": "088c71d7-80ab-41f8-904c-2d5efcfd7265",
   "metadata": {},
   "source": [
    "The RandomForestClassifier is a type of ensemble learning method that creates multiple decision trees and combines their predictions to make a final prediction. The algorithm randomly selects a subset of features and data points to build each tree, which helps to reduce overfitting and improve the generalization performance of the model."
   ]
  },
  {
   "cell_type": "code",
   "execution_count": 701,
   "id": "acf76133-81a6-4bbb-b490-fe588b38904e",
   "metadata": {},
   "outputs": [],
   "source": [
    "from sklearn.ensemble import RandomForestClassifier\n",
    "\n",
    "# Initialize a RandomForestRegressor model\n",
    "forest = RandomForestClassifier()\n",
    "\n",
    "# Train the model on the training data using the fit method\n",
    "forest.fit(X_train, y_train)\n",
    "\n"
   ]
  },
  {
   "cell_type": "markdown",
   "id": "3c8333d7-eea8-4feb-b8ab-53ebb963cb50",
   "metadata": {},
   "source": [
    "#### The training has been done, the predictor can now be tested:\n",
    "\n",
    "GridSearchCV is a technique used to systematically search over a range of hyperparameters to find the best combination of hyperparameters that optimize a model's performance. By extracting the best model from the GridSearchCV object and using it to make predictions on the testing data, we can assess the model's performance on new, unseen data and obtain an estimate of its generalization performance.\n",
    "\n",
    "\n",
    "\n"
   ]
  },
  {
   "cell_type": "code",
   "execution_count": 703,
   "id": "7d1084ef-9b44-4699-9e35-24355f793c84",
   "metadata": {},
   "outputs": [
    {
     "name": "stdout",
     "output_type": "stream",
     "text": [
      "Accuracy on testing data: 0.81\n"
     ]
    },
    {
     "name": "stderr",
     "output_type": "stream",
     "text": [
      "/Users/Omar/opt/anaconda3/lib/python3.9/site-packages/sklearn/neighbors/_classification.py:228: FutureWarning: Unlike other reduction functions (e.g. `skew`, `kurtosis`), the default behavior of `mode` typically preserves the axis it acts along. In SciPy 1.11.0, this behavior will change: the default value of `keepdims` will become False, the `axis` over which the statistic is taken will be eliminated, and the value None will no longer be accepted. Set `keepdims` to True or False to avoid this warning.\n",
      "/Users/Omar/opt/anaconda3/lib/python3.9/site-packages/sklearn/neighbors/_classification.py:228: FutureWarning: Unlike other reduction functions (e.g. `skew`, `kurtosis`), the default behavior of `mode` typically preserves the axis it acts along. In SciPy 1.11.0, this behavior will change: the default value of `keepdims` will become False, the `axis` over which the statistic is taken will be eliminated, and the value None will no longer be accepted. Set `keepdims` to True or False to avoid this warning.\n"
     ]
    }
   ],
   "source": [
    "# Evaluate the model on the testing data\n",
    "y_pred = forest.predict(X_test)\n",
    "\n",
    "\n",
    "# Use the best model from GridSearchCV to make predictions on the testing data\n",
    "y_pred = grid_search.best_estimator_.predict(X_test)\n",
    "\n",
    "# Print the accuracy of the model on the testing data\n",
    "print(\"Accuracy on testing data: {:.2f}\".format(grid_search.best_estimator_.score(X_test, y_test)))\n",
    "\n",
    "\n"
   ]
  },
  {
   "cell_type": "markdown",
   "id": "5a5211af-e5dc-4bbd-a2db-abba9c2c37e6",
   "metadata": {},
   "source": [
    "The output of 0.81 represents the accuracy of the best model on the testing data.\n",
    "\n",
    "Accuracy is a common evaluation metric used for classification problems, which measures the proportion of correctly classified samples in the dataset. In this case, an accuracy of 0.81 means that the model correctly classified 81% of the samples in the testing data.\n",
    "\n",
    "However, it's important to note that accuracy may not always be the best metric to use, especially if the dataset is imbalanced or if the cost of misclassification is different for different classes. In such cases, other metrics such as precision, recall, F1 score, or area under the ROC curve (AUC-ROC) may be more appropriate for evaluating the performance of the model. these are further analyzations that can be done on this model. "
   ]
  }
 ],
 "metadata": {
  "kernelspec": {
   "display_name": "Python 3 (ipykernel)",
   "language": "python",
   "name": "python3"
  },
  "language_info": {
   "codemirror_mode": {
    "name": "ipython",
    "version": 3
   },
   "file_extension": ".py",
   "mimetype": "text/x-python",
   "name": "python",
   "nbconvert_exporter": "python",
   "pygments_lexer": "ipython3",
   "version": "3.9.13"
  }
 },
 "nbformat": 4,
 "nbformat_minor": 5
}
